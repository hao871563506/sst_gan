{
 "cells": [
  {
   "cell_type": "code",
   "execution_count": 1,
   "metadata": {},
   "outputs": [],
   "source": [
    "import os\n",
    "\n",
    "# must be done before first numpy import\n",
    "os.environ['NUMPY_EXPERIMENTAL_ARRAY_FUNCTION'] = '0'\n",
    "\n",
    "import xarray as xr\n",
    "import numpy as np\n",
    "import gcsfs\n",
    "import zarr\n",
    "import xrft\n",
    "from pyresample import image, geometry\n",
    "import json\n",
    "from matplotlib import pyplot as plt\n",
    "import dask\n",
    "%matplotlib inline"
   ]
  },
  {
   "cell_type": "code",
   "execution_count": 2,
   "metadata": {},
   "outputs": [
    {
     "data": {
      "application/vnd.jupyter.widget-view+json": {
       "model_id": "c0d2740952cf45a999b9b7e83deb68ae",
       "version_major": 2,
       "version_minor": 0
      },
      "text/plain": [
       "VBox(children=(HTML(value='<h2>KubeCluster</h2>'), HBox(children=(HTML(value='\\n<div>\\n  <style scoped>\\n    .…"
      ]
     },
     "metadata": {},
     "output_type": "display_data"
    }
   ],
   "source": [
    "from dask_kubernetes import KubeCluster\n",
    "cluster = KubeCluster(n_workers=10, env={\"NUMPY_EXPERIMENTAL_ARRAY_FUNCTION\": \"0\"})\n",
    "cluster"
   ]
  },
  {
   "cell_type": "code",
   "execution_count": 3,
   "metadata": {},
   "outputs": [
    {
     "data": {
      "text/html": [
       "<table style=\"border: 2px solid white;\">\n",
       "<tr>\n",
       "<td style=\"vertical-align: top; border: 0px solid white\">\n",
       "<h3 style=\"text-align: left;\">Client</h3>\n",
       "<ul style=\"text-align: left; list-style: none; margin: 0; padding: 0;\">\n",
       "  <li><b>Scheduler: </b>tcp://10.32.60.184:41717</li>\n",
       "  <li><b>Dashboard: </b><a href='/user/0000-0001-5999-4917/proxy/8787/status' target='_blank'>/user/0000-0001-5999-4917/proxy/8787/status</a>\n",
       "</ul>\n",
       "</td>\n",
       "<td style=\"vertical-align: top; border: 0px solid white\">\n",
       "<h3 style=\"text-align: left;\">Cluster</h3>\n",
       "<ul style=\"text-align: left; list-style:none; margin: 0; padding: 0;\">\n",
       "  <li><b>Workers: </b>4</li>\n",
       "  <li><b>Cores: </b>8</li>\n",
       "  <li><b>Memory: </b>46.00 GB</li>\n",
       "</ul>\n",
       "</td>\n",
       "</tr>\n",
       "</table>"
      ],
      "text/plain": [
       "<Client: scheduler='tcp://10.32.60.184:41717' processes=4 cores=8>"
      ]
     },
     "execution_count": 3,
     "metadata": {},
     "output_type": "execute_result"
    }
   ],
   "source": [
    "from dask.distributed import Client\n",
    "\n",
    "client = Client(cluster)\n",
    "client"
   ]
  },
  {
   "cell_type": "code",
   "execution_count": 26,
   "metadata": {},
   "outputs": [
    {
     "data": {
      "text/html": [
       "<table style=\"border: 2px solid white;\">\n",
       "<tr>\n",
       "<td style=\"vertical-align: top; border: 0px solid white\">\n",
       "<h3 style=\"text-align: left;\">Client</h3>\n",
       "<ul style=\"text-align: left; list-style: none; margin: 0; padding: 0;\">\n",
       "  <li><b>Scheduler: </b>tcp://10.32.60.184:41717</li>\n",
       "  <li><b>Dashboard: </b><a href='/user/0000-0001-5999-4917/proxy/8787/status' target='_blank'>/user/0000-0001-5999-4917/proxy/8787/status</a>\n",
       "</ul>\n",
       "</td>\n",
       "<td style=\"vertical-align: top; border: 0px solid white\">\n",
       "<h3 style=\"text-align: left;\">Cluster</h3>\n",
       "<ul style=\"text-align: left; list-style:none; margin: 0; padding: 0;\">\n",
       "  <li><b>Workers: </b>10</li>\n",
       "  <li><b>Cores: </b>20</li>\n",
       "  <li><b>Memory: </b>115.00 GB</li>\n",
       "</ul>\n",
       "</td>\n",
       "</tr>\n",
       "</table>"
      ],
      "text/plain": [
       "<Client: scheduler='tcp://10.32.60.184:41717' processes=2 cores=4>"
      ]
     },
     "execution_count": 26,
     "metadata": {},
     "output_type": "execute_result"
    }
   ],
   "source": [
    "client.restart()"
   ]
  },
  {
   "cell_type": "code",
   "execution_count": 4,
   "metadata": {},
   "outputs": [
    {
     "data": {
      "text/plain": [
       "{'tcp://10.32.168.4:33347': '0',\n",
       " 'tcp://10.32.168.5:36419': '0',\n",
       " 'tcp://10.32.61.4:34501': '0',\n",
       " 'tcp://10.32.61.5:37703': '0'}"
      ]
     },
     "execution_count": 4,
     "metadata": {},
     "output_type": "execute_result"
    }
   ],
   "source": [
    "def check_env_vars():\n",
    "    import os\n",
    "    return os.environ['NUMPY_EXPERIMENTAL_ARRAY_FUNCTION']\n",
    "\n",
    "client.run(check_env_vars)"
   ]
  },
  {
   "cell_type": "code",
   "execution_count": 5,
   "metadata": {},
   "outputs": [],
   "source": [
    "from xmitgcm.llcreader.llcmodel import faces_dataset_to_latlon\n",
    "\n",
    "def setup_global_dataset(nt):\n",
    "\n",
    "    gcs = gcsfs.GCSFileSystem(token='anon')\n",
    "    ds_sst_full = xr.open_zarr(gcs.get_mapper('pangeo-data/llc4320_surface/SST'),\n",
    "                               consolidated=True, chunks=False)\n",
    "    ds_ssh_full = xr.open_zarr(gcs.get_mapper('pangeo-data/llc4320_surface/Eta'),\n",
    "                               consolidated=True, chunks=False)\n",
    "    ds_grid = xr.open_zarr(gcs.get_mapper('pangeo-data/llc4320_surface/grid'),\n",
    "                           consolidated=True)\n",
    "    coord_vars_to_keep = ['XC', 'YC']\n",
    "    rename_coords = {'XC': 'lon', 'YC': 'lat'}\n",
    "    ds_grid = (ds_grid.reset_coords()[coord_vars_to_keep]\n",
    "                      .reset_coords(drop=True)\n",
    "                      .set_coords(coord_vars_to_keep)\n",
    "                      .rename(rename_coords))\n",
    "    \n",
    "    ds_full = xr.merge([ds_sst_full, ds_ssh_full, ds_grid])\n",
    "    \n",
    "    ds_faces = ds_full.isel(time=nt).chunk({'face': 1})\n",
    "    \n",
    "    ds_ll = faces_dataset_to_latlon(ds_faces, metric_vector_pairs=[])\n",
    "    return ds_ll.drop('face')"
   ]
  },
  {
   "cell_type": "code",
   "execution_count": 6,
   "metadata": {},
   "outputs": [
    {
     "name": "stdout",
     "output_type": "stream",
     "text": [
      "CPU times: user 279 ms, sys: 35.5 ms, total: 314 ms\n",
      "Wall time: 1.75 s\n"
     ]
    },
    {
     "data": {
      "text/plain": [
       "<xarray.Dataset>\n",
       "Dimensions:  (i: 17280, j: 12960)\n",
       "Coordinates:\n",
       "  * i        (i) int64 0 1 2 3 4 5 6 ... 17274 17275 17276 17277 17278 17279\n",
       "  * j        (j) int64 0 1 2 3 4 5 6 ... 12954 12955 12956 12957 12958 12959\n",
       "    time     datetime64[ns] 2011-09-13\n",
       "    lon      (j, i) float32 dask.array<shape=(12960, 17280), chunksize=(4320, 4320)>\n",
       "    lat      (j, i) float32 dask.array<shape=(12960, 17280), chunksize=(4320, 4320)>\n",
       "Data variables:\n",
       "    SST      (j, i) float32 dask.array<shape=(12960, 17280), chunksize=(4320, 4320)>\n",
       "    Eta      (j, i) float32 dask.array<shape=(12960, 17280), chunksize=(4320, 4320)>"
      ]
     },
     "execution_count": 6,
     "metadata": {},
     "output_type": "execute_result"
    }
   ],
   "source": [
    "%time ds = setup_global_dataset(0)\n",
    "ds"
   ]
  },
  {
   "cell_type": "code",
   "execution_count": 7,
   "metadata": {},
   "outputs": [
    {
     "data": {
      "text/plain": [
       "<xarray.Dataset>\n",
       "Dimensions:  (point: 321)\n",
       "Dimensions without coordinates: point\n",
       "Data variables:\n",
       "    lon      (point) float64 -32.52 -55.76 -166.8 ... -32.72 -12.24 0.4759\n",
       "    lat      (point) float64 -74.01 -73.79 -73.56 -73.28 ... 62.82 68.88 69.47\n",
       "    j        (point) int64 2160 2160 2160 2160 2160 ... 11340 11880 12420 12420\n",
       "    i        (point) int64 0 10260 10800 11340 11880 ... 10260 16200 0 1080 1620\n",
       "Attributes:\n",
       "    region_size:  540"
      ]
     },
     "execution_count": 7,
     "metadata": {},
     "output_type": "execute_result"
    }
   ],
   "source": [
    "def load_regions():\n",
    "    with open('land_free_regions_llc4320.json') as f:\n",
    "        d = json.load(f)\n",
    "    return xr.Dataset.from_dict(d)\n",
    "\n",
    "regions = load_regions()\n",
    "regions"
   ]
  },
  {
   "cell_type": "code",
   "execution_count": 8,
   "metadata": {},
   "outputs": [],
   "source": [
    "def load_patch(ds=None, regions=None, nregion=None):\n",
    "    region = regions.sel(point=nregion)\n",
    "    size_j, size_i = regions.region_size, regions.region_size\n",
    "    i_start = region.i.values.item()\n",
    "    j_start = region.j.values.item()\n",
    "    ds_patch = ds.isel(i=slice(i_start, i_start + size_i),\n",
    "                              j=slice(j_start, j_start + size_j))\n",
    "    return ds_patch"
   ]
  },
  {
   "cell_type": "code",
   "execution_count": 10,
   "metadata": {},
   "outputs": [],
   "source": [
    "def target_area_def(ds_patch):\n",
    "    \"\"\"Get a pyresample area_def for a given patch.\"\"\"\n",
    "    size_i = len(ds_patch.i)\n",
    "    size_j = len(ds_patch.j)\n",
    "    center_point = ds_patch.isel(i=size_i//2, j=size_j//2)\n",
    "    center_lon, center_lat = center_point.lon.values.item(), center_point.lat.values.item()\n",
    "    area_id = 'local_grid'\n",
    "    description = 'Local Lambert Equal Area Grid'\n",
    "    proj_id = 'local_grid'\n",
    "    proj_dict = {'proj': 'laea', 'lat_0': center_lat, 'lon_0': center_lon, 'units': 'm'} #  'a': 6371228.0,\n",
    "\n",
    "    # 1 km resolution\n",
    "    width = 512\n",
    "    height = 512\n",
    "\n",
    "    # 512 x 512 km\n",
    "    area_extent = (-256000., -256000., 256000., 256000.)\n",
    "    area_def = geometry.AreaDefinition(area_id, description, proj_id, proj_dict,\n",
    "                                       width, height, area_extent)\n",
    "    return area_def\n",
    "\n",
    "\n",
    "def image_to_dataset(im, varname='foo'):\n",
    "    \"\"\"Wrap pyresample image in xarray dataset.\"\"\"\n",
    "    geo_def = im.geo_def\n",
    "    units = geo_def.proj_dict['units']\n",
    "    lons, lats =  geo_def.get_lonlats()\n",
    "    ds_resampled = xr.DataArray(im.image_data, dims=['y', 'x'],\n",
    "                                coords={'x': ('x', geo_def.projection_x_coords, {'units':  units}),\n",
    "                                        'y': ('x', geo_def.projection_y_coords, {'units':  units}),\n",
    "                                        'lon': (['y', 'x'], lons),\n",
    "                                        'lat': (['y', 'x'], lats)\n",
    "                                       }, name=varname).to_dataset()\n",
    "    ds_resampled.coords['projection'] = ('projection', [1], geo_def.proj_dict)\n",
    "    \n",
    "    # what metadata to save? this seems relevant\n",
    "    # http://cfconventions.org/Data/cf-conventions/cf-conventions-1.7/cf-conventions.html#grid-mappings-and-projections\n",
    "    return ds_resampled\n",
    "\n",
    "def resample_patch(ds_patch, varname='SST'):\n",
    "    \"\"\"Resample a patch of ocean.\"\"\"\n",
    "    grid_def = geometry.GridDefinition(lons=ds_patch.lon.values, lats=ds_patch.lat.values)\n",
    "    data = ds_patch[varname].to_masked_array()\n",
    "    im = image.ImageContainerBilinear(data, grid_def,\n",
    "                                      radius_of_influence=10000., fill_value=None)\n",
    "    \n",
    "    area_def = target_area_def(ds_patch)\n",
    "    im_resampled = im.resample(area_def)\n",
    "    resampled_ds = image_to_dataset(im_resampled, varname=varname)\n",
    "    return resampled_ds.drop(['lon', 'lat', 'projection'])\n",
    "    #return im_resampled.image_data.filled(np.nan).astype('f4')"
   ]
  },
  {
   "cell_type": "code",
   "execution_count": 11,
   "metadata": {},
   "outputs": [],
   "source": [
    "import json\n",
    "import prefect\n",
    "\n",
    "with open('pangeo-181919-0c1f01383379.json') as fp:\n",
    "    token = json.load(fp)\n",
    "prefect.context.setdefault('secrets', {})['GOOGLE_APPLICATION_CREDENTIALS'] = token"
   ]
  },
  {
   "cell_type": "code",
   "execution_count": 37,
   "metadata": {},
   "outputs": [
    {
     "data": {
      "image/svg+xml": [
       "<?xml version=\"1.0\" encoding=\"UTF-8\" standalone=\"no\"?>\n",
       "<!DOCTYPE svg PUBLIC \"-//W3C//DTD SVG 1.1//EN\"\n",
       " \"http://www.w3.org/Graphics/SVG/1.1/DTD/svg11.dtd\">\n",
       "<!-- Generated by graphviz version 2.40.1 (20161225.0304)\n",
       " -->\n",
       "<!-- Title: %3 Pages: 1 -->\n",
       "<svg width=\"464pt\" height=\"131pt\"\n",
       " viewBox=\"0.00 0.00 464.35 131.00\" xmlns=\"http://www.w3.org/2000/svg\" xmlns:xlink=\"http://www.w3.org/1999/xlink\">\n",
       "<g id=\"graph0\" class=\"graph\" transform=\"scale(1 1) rotate(0) translate(4 127)\">\n",
       "<title>%3</title>\n",
       "<polygon fill=\"#ffffff\" stroke=\"transparent\" points=\"-4,4 -4,-127 460.3454,-127 460.3454,4 -4,4\"/>\n",
       "<!-- 140022950308384 -->\n",
       "<g id=\"node1\" class=\"node\">\n",
       "<title>140022950308384</title>\n",
       "<ellipse fill=\"none\" stroke=\"#000000\" cx=\"51.3454\" cy=\"-105\" rx=\"51.1914\" ry=\"18\"/>\n",
       "<text text-anchor=\"middle\" x=\"51.3454\" y=\"-101.3\" font-family=\"Times,serif\" font-size=\"14.00\" fill=\"#000000\">varname</text>\n",
       "</g>\n",
       "<!-- 140022954011056 -->\n",
       "<g id=\"node4\" class=\"node\">\n",
       "<title>140022954011056</title>\n",
       "<ellipse fill=\"none\" stroke=\"#000000\" cx=\"217.3454\" cy=\"-18\" rx=\"70.3881\" ry=\"18\"/>\n",
       "<text text-anchor=\"middle\" x=\"217.3454\" y=\"-14.3\" font-family=\"Times,serif\" font-size=\"14.00\" fill=\"#000000\">do_etl_patch</text>\n",
       "</g>\n",
       "<!-- 140022950308384&#45;&gt;140022954011056 -->\n",
       "<g id=\"edge3\" class=\"edge\">\n",
       "<title>140022950308384&#45;&gt;140022954011056</title>\n",
       "<path fill=\"none\" stroke=\"#000000\" d=\"M67.876,-87.9342C79.25,-76.9932 95.1729,-63.173 111.3454,-54 125.695,-45.861 142.1825,-39.1615 157.8125,-33.8417\"/>\n",
       "<polygon fill=\"#000000\" stroke=\"#000000\" points=\"158.9882,-37.1397 167.4068,-30.7071 156.8142,-30.4858 158.9882,-37.1397\"/>\n",
       "<text text-anchor=\"middle\" x=\"142.8454\" y=\"-57.8\" font-family=\"Times,serif\" font-size=\"14.00\" fill=\"#000000\">varname</text>\n",
       "</g>\n",
       "<!-- 140022949141920 -->\n",
       "<g id=\"node2\" class=\"node\">\n",
       "<title>140022949141920</title>\n",
       "<ellipse fill=\"none\" stroke=\"#000000\" cx=\"147.3454\" cy=\"-105\" rx=\"27\" ry=\"18\"/>\n",
       "<text text-anchor=\"middle\" x=\"147.3454\" y=\"-101.3\" font-family=\"Times,serif\" font-size=\"14.00\" fill=\"#000000\">10</text>\n",
       "</g>\n",
       "<!-- 140022949141920&#45;&gt;140022954011056 -->\n",
       "<g id=\"edge4\" class=\"edge\">\n",
       "<title>140022949141920&#45;&gt;140022954011056</title>\n",
       "<path fill=\"none\" stroke=\"#000000\" d=\"M160.1845,-89.0429C170.3467,-76.4127 184.7431,-58.5201 196.5454,-43.8515\"/>\n",
       "<polygon fill=\"#000000\" stroke=\"#000000\" points=\"199.6011,-45.6369 203.143,-35.6516 194.1473,-41.2487 199.6011,-45.6369\"/>\n",
       "<text text-anchor=\"middle\" x=\"214.8454\" y=\"-57.8\" font-family=\"Times,serif\" font-size=\"14.00\" fill=\"#000000\">nregion</text>\n",
       "</g>\n",
       "<!-- 140022948886008 -->\n",
       "<g id=\"node3\" class=\"node\">\n",
       "<title>140022948886008</title>\n",
       "<ellipse fill=\"none\" stroke=\"#000000\" cx=\"288.3454\" cy=\"-105\" rx=\"96.3833\" ry=\"18\"/>\n",
       "<text text-anchor=\"middle\" x=\"288.3454\" y=\"-101.3\" font-family=\"Times,serif\" font-size=\"14.00\" fill=\"#000000\">Constant[Dataset]</text>\n",
       "</g>\n",
       "<!-- 140022948886008&#45;&gt;140022954011056 -->\n",
       "<g id=\"edge2\" class=\"edge\">\n",
       "<title>140022948886008&#45;&gt;140022954011056</title>\n",
       "<path fill=\"none\" stroke=\"#000000\" d=\"M273.6342,-86.9735C263.3801,-74.4087 249.5531,-57.4657 238.1695,-43.5168\"/>\n",
       "<polygon fill=\"#000000\" stroke=\"#000000\" points=\"240.8293,-41.2403 231.7949,-35.7057 235.406,-45.6662 240.8293,-41.2403\"/>\n",
       "<text text-anchor=\"middle\" x=\"283.3454\" y=\"-57.8\" font-family=\"Times,serif\" font-size=\"14.00\" fill=\"#000000\">regions</text>\n",
       "</g>\n",
       "<!-- 140022949973240 -->\n",
       "<g id=\"node5\" class=\"node\">\n",
       "<title>140022949973240</title>\n",
       "<ellipse fill=\"none\" stroke=\"#000000\" cx=\"429.3454\" cy=\"-105\" rx=\"27\" ry=\"18\"/>\n",
       "<text text-anchor=\"middle\" x=\"429.3454\" y=\"-101.3\" font-family=\"Times,serif\" font-size=\"14.00\" fill=\"#000000\">0</text>\n",
       "</g>\n",
       "<!-- 140022949973240&#45;&gt;140022954011056 -->\n",
       "<g id=\"edge1\" class=\"edge\">\n",
       "<title>140022949973240&#45;&gt;140022954011056</title>\n",
       "<path fill=\"none\" stroke=\"#000000\" d=\"M407.7585,-93.9087C403.0376,-91.5668 398.0463,-89.154 393.3454,-87 351.8911,-68.0048 303.5926,-49.304 268.0892,-36.173\"/>\n",
       "<polygon fill=\"#000000\" stroke=\"#000000\" points=\"269.0246,-32.7879 258.4311,-32.6215 266.6087,-39.3578 269.0246,-32.7879\"/>\n",
       "<text text-anchor=\"middle\" x=\"358.3454\" y=\"-57.8\" font-family=\"Times,serif\" font-size=\"14.00\" fill=\"#000000\">nt</text>\n",
       "</g>\n",
       "</g>\n",
       "</svg>\n"
      ],
      "text/plain": [
       "<graphviz.dot.Digraph at 0x7f59a2363eb8>"
      ]
     },
     "execution_count": 37,
     "metadata": {},
     "output_type": "execute_result"
    }
   ],
   "source": [
    "from prefect import Flow, task, unmapped, Parameter\n",
    "from prefect.client import Secret\n",
    "import gcsfs\n",
    "import zarr\n",
    "import datetime\n",
    "\n",
    "@task(max_retries=3, retry_delay=datetime.timedelta(seconds=1))\n",
    "def do_etl_patch(regions, nt: int, nregion: int, varname: str):\n",
    "    # not necessary after fixing env variable issue\n",
    "    with dask.config.set(scheduler='single-threaded'):\n",
    "        ds_full = setup_global_dataset(nt)\n",
    "        patch = load_patch(ds=ds, regions=regions, nregion=nregion)\n",
    "        patch.load()\n",
    "    patch_resampled = resample_patch(patch)\n",
    "    return patch_resampled\n",
    "\n",
    "@task(max_retries=3, retry_delay=datetime.timedelta(seconds=1))\n",
    "def combine_and_store_arrays(patches, nt: int, varname: str):\n",
    "    ds_concat = xr.concat(patches, dim='region')\n",
    "    \n",
    "    # get credentials and set up store\n",
    "    token = Secret(\"GOOGLE_APPLICATION_CREDENTIALS\").get()\n",
    "    fs = gcsfs.GCSFileSystem(token=token)\n",
    "    store_name = f'pangeo-ocean-ml/LLC4320/{varname}.{nt:010d}.zarr'\n",
    "    gcsmap = fs.get_mapper(store_name)\n",
    "    \n",
    "    nx, ny = ds_concat.dims['x'], ds_concat.dims['y']\n",
    "    encoding = {varname: {'chunks': (1, ny, nx)}}\n",
    "    # consolidating here actually doesn't work; consolidated metadata is empty\n",
    "    ds_concat.to_zarr(gcsmap, encoding=encoding, mode='w')\n",
    "    \n",
    "    # does this clear the cache? yes\n",
    "    fs = gcsfs.GCSFileSystem(token=token)\n",
    "    gcsmap = fs.get_mapper(store_name)\n",
    "    zarr.consolidate_metadata(gcsmap)\n",
    "    \n",
    "with Flow('ETL_Simple') as flow_simple:\n",
    "    regions = load_regions()\n",
    "    varname = Parameter('varname')\n",
    "    do_etl_patch(regions, 0, 10, varname)\n",
    "    \n",
    "    \n",
    "with Flow('ETL_patches_mapped') as flow_mapped:\n",
    "    regions = load_regions()\n",
    "    nt = Parameter('nt', default=0)\n",
    "    varname = Parameter('varname', default='SST')    \n",
    "    nregion = list(range(regions.dims['point']))\n",
    "    # why do we need `unmapped(nt)` but not `unmapped(varname)`?\n",
    "    patches = do_etl_patch.map(unmapped(regions), unmapped(nt), nregion, unmapped(varname))\n",
    "    # todo: refactor so that all the tasks don't bottleneck but rather \n",
    "    #       write in a streaming fashion\n",
    "    result = combine_and_store_arrays(patches, nt, varname)\n",
    "\n",
    "flow_simple.visualize() "
   ]
  },
  {
   "cell_type": "code",
   "execution_count": 13,
   "metadata": {},
   "outputs": [],
   "source": [
    "from prefect.engine.executors import DaskExecutor\n",
    "executor = DaskExecutor(address=cluster.scheduler_address)"
   ]
  },
  {
   "cell_type": "code",
   "execution_count": null,
   "metadata": {},
   "outputs": [
    {
     "name": "stderr",
     "output_type": "stream",
     "text": [
      "[2019-09-10 03:36:58,836] INFO - prefect.FlowRunner | Beginning Flow run for 'ETL_patches_mapped'\n",
      "[2019-09-10 03:36:58,839] INFO - prefect.FlowRunner | Starting flow run.\n"
     ]
    }
   ],
   "source": [
    "for nt in range(0, 9030, 24*3+1):\n",
    "    flow_mapped.run(nt=nt, executor=executor)"
   ]
  },
  {
   "cell_type": "code",
   "execution_count": null,
   "metadata": {},
   "outputs": [],
   "source": []
  }
 ],
 "metadata": {
  "kernelspec": {
   "display_name": "Python 3",
   "language": "python",
   "name": "python3"
  },
  "language_info": {
   "codemirror_mode": {
    "name": "ipython",
    "version": 3
   },
   "file_extension": ".py",
   "mimetype": "text/x-python",
   "name": "python",
   "nbconvert_exporter": "python",
   "pygments_lexer": "ipython3",
   "version": "3.7.3"
  }
 },
 "nbformat": 4,
 "nbformat_minor": 4
}
