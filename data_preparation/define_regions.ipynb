{
 "cells": [
  {
   "cell_type": "code",
   "execution_count": 1,
   "metadata": {},
   "outputs": [],
   "source": [
    "import os\n",
    "os.environ['NUMPY_EXPERIMENTAL_ARRAY_FUNCTION'] = '0'\n",
    "\n",
    "import xarray as xr\n",
    "import numpy as np\n",
    "import gcsfs\n",
    "import zarr\n",
    "import xrft\n",
    "from pyresample import image, geometry\n",
    "from matplotlib import pyplot as plt\n",
    "%matplotlib inline"
   ]
  },
  {
   "cell_type": "code",
   "execution_count": 2,
   "metadata": {},
   "outputs": [
    {
     "data": {
      "text/plain": [
       "<xarray.Dataset>\n",
       "Dimensions:  (face: 13, i: 4320, i_g: 4320, j: 4320, j_g: 4320, k_p1: 2, time: 9030)\n",
       "Coordinates:\n",
       "    CS       (face, j, i) float32 dask.array<shape=(13, 4320, 4320), chunksize=(1, 4320, 4320)>\n",
       "    Depth    (face, j, i) float32 dask.array<shape=(13, 4320, 4320), chunksize=(1, 4320, 4320)>\n",
       "    PHrefC   float32 ...\n",
       "    PHrefF   (k_p1) float32 dask.array<shape=(2,), chunksize=(2,)>\n",
       "    SN       (face, j, i) float32 dask.array<shape=(13, 4320, 4320), chunksize=(1, 4320, 4320)>\n",
       "    XC       (face, j, i) float32 dask.array<shape=(13, 4320, 4320), chunksize=(1, 4320, 4320)>\n",
       "    XG       (face, j_g, i_g) float32 dask.array<shape=(13, 4320, 4320), chunksize=(1, 4320, 4320)>\n",
       "    YC       (face, j, i) float32 dask.array<shape=(13, 4320, 4320), chunksize=(1, 4320, 4320)>\n",
       "    YG       (face, j_g, i_g) float32 dask.array<shape=(13, 4320, 4320), chunksize=(1, 4320, 4320)>\n",
       "    Z        float32 ...\n",
       "    Zl       float32 ...\n",
       "    Zp1      (k_p1) float32 dask.array<shape=(2,), chunksize=(2,)>\n",
       "    Zu       float32 ...\n",
       "    drC      (k_p1) float32 dask.array<shape=(2,), chunksize=(2,)>\n",
       "    drF      float32 ...\n",
       "    dxC      (face, j, i_g) float32 dask.array<shape=(13, 4320, 4320), chunksize=(1, 4320, 4320)>\n",
       "    dxG      (face, j_g, i) float32 dask.array<shape=(13, 4320, 4320), chunksize=(1, 4320, 4320)>\n",
       "    dyC      (face, j_g, i) float32 dask.array<shape=(13, 4320, 4320), chunksize=(1, 4320, 4320)>\n",
       "    dyG      (face, j, i_g) float32 dask.array<shape=(13, 4320, 4320), chunksize=(1, 4320, 4320)>\n",
       "  * face     (face) int64 0 1 2 3 4 5 6 7 8 9 10 11 12\n",
       "    hFacC    (face, j, i) float32 dask.array<shape=(13, 4320, 4320), chunksize=(1, 4320, 4320)>\n",
       "    hFacS    (face, j_g, i) float32 dask.array<shape=(13, 4320, 4320), chunksize=(1, 4320, 4320)>\n",
       "    hFacW    (face, j, i_g) float32 dask.array<shape=(13, 4320, 4320), chunksize=(1, 4320, 4320)>\n",
       "  * i        (i) int64 0 1 2 3 4 5 6 7 ... 4313 4314 4315 4316 4317 4318 4319\n",
       "  * i_g      (i_g) int64 0 1 2 3 4 5 6 7 ... 4313 4314 4315 4316 4317 4318 4319\n",
       "    iter     (time) int64 dask.array<shape=(9030,), chunksize=(9030,)>\n",
       "  * j        (j) int64 0 1 2 3 4 5 6 7 ... 4313 4314 4315 4316 4317 4318 4319\n",
       "  * j_g      (j_g) int64 0 1 2 3 4 5 6 7 ... 4313 4314 4315 4316 4317 4318 4319\n",
       "    k        int64 ...\n",
       "    k_l      int64 ...\n",
       "  * k_p1     (k_p1) int64 0 1\n",
       "    k_u      int64 ...\n",
       "    rA       (face, j, i) float32 dask.array<shape=(13, 4320, 4320), chunksize=(1, 4320, 4320)>\n",
       "    rAs      (face, j_g, i) float32 dask.array<shape=(13, 4320, 4320), chunksize=(1, 4320, 4320)>\n",
       "    rAw      (face, j, i_g) float32 dask.array<shape=(13, 4320, 4320), chunksize=(1, 4320, 4320)>\n",
       "    rAz      (face, j_g, i_g) float32 dask.array<shape=(13, 4320, 4320), chunksize=(1, 4320, 4320)>\n",
       "  * time     (time) datetime64[ns] 2011-09-13 ... 2012-09-23T05:00:00\n",
       "Data variables:\n",
       "    *empty*\n",
       "Attributes:\n",
       "    Conventions:  CF-1.6\n",
       "    history:      Created by calling `open_mdsdataset(llc_method='smallchunks...\n",
       "    source:       MITgcm\n",
       "    title:        netCDF wrapper of MITgcm MDS binary data"
      ]
     },
     "execution_count": 2,
     "metadata": {},
     "output_type": "execute_result"
    }
   ],
   "source": [
    "gcs = gcsfs.GCSFileSystem(token='anon')\n",
    "ds_grid = xr.open_zarr(gcs.get_mapper('pangeo-data/llc4320_surface/grid'),\n",
    "                           consolidated=True)\n",
    "ds_grid"
   ]
  },
  {
   "cell_type": "code",
   "execution_count": 3,
   "metadata": {},
   "outputs": [
    {
     "data": {
      "text/plain": [
       "<xarray.Dataset>\n",
       "Dimensions:  (face: 13, i: 17280, i_g: 17280, j: 12960, j_g: 12960, k_p1: 2, time: 9030)\n",
       "Coordinates:\n",
       "  * face     (face) int64 0 1 2 3 4 5 6 7 8 9 10 11 12\n",
       "  * i        (i) int64 0 1 2 3 4 5 6 ... 17274 17275 17276 17277 17278 17279\n",
       "  * j        (j) int64 0 1 2 3 4 5 6 ... 12954 12955 12956 12957 12958 12959\n",
       "  * time     (time) datetime64[ns] 2011-09-13 ... 2012-09-23T05:00:00\n",
       "  * i_g      (i_g) int64 0 1 2 3 4 5 6 ... 17274 17275 17276 17277 17278 17279\n",
       "  * j_g      (j_g) int64 0 1 2 3 4 5 6 ... 12954 12955 12956 12957 12958 12959\n",
       "  * k_p1     (k_p1) int64 0 1\n",
       "    CS       (j, i) float32 dask.array<shape=(12960, 17280), chunksize=(4320, 4320)>\n",
       "    Depth    (j, i) float32 dask.array<shape=(12960, 17280), chunksize=(4320, 4320)>\n",
       "    PHrefC   float32 15.4017\n",
       "    PHrefF   (k_p1) float32 dask.array<shape=(2,), chunksize=(2,)>\n",
       "    SN       (j, i) float32 dask.array<shape=(12960, 17280), chunksize=(4320, 4320)>\n",
       "    XC       (j, i) float32 dask.array<shape=(12960, 17280), chunksize=(4320, 4320)>\n",
       "    XG       (j_g, i_g) float32 dask.array<shape=(12960, 17280), chunksize=(4320, 4320)>\n",
       "    YC       (j, i) float32 dask.array<shape=(12960, 17280), chunksize=(4320, 4320)>\n",
       "    YG       (j_g, i_g) float32 dask.array<shape=(12960, 17280), chunksize=(4320, 4320)>\n",
       "    Z        float32 -1.57\n",
       "    Zl       float32 -1.0\n",
       "    Zp1      (k_p1) float32 dask.array<shape=(2,), chunksize=(2,)>\n",
       "    Zu       float32 -2.14\n",
       "    drC      (k_p1) float32 dask.array<shape=(2,), chunksize=(2,)>\n",
       "    drF      float32 1.14\n",
       "    hFacC    (j, i) float32 dask.array<shape=(12960, 17280), chunksize=(4320, 4320)>\n",
       "    hFacS    (j_g, i) float32 dask.array<shape=(12960, 17280), chunksize=(4320, 4320)>\n",
       "    hFacW    (j, i_g) float32 dask.array<shape=(12960, 17280), chunksize=(4320, 4320)>\n",
       "    iter     (time) int64 dask.array<shape=(9030,), chunksize=(9030,)>\n",
       "    k        int64 1\n",
       "    k_l      int64 1\n",
       "    k_u      int64 1\n",
       "    rA       (j, i) float32 dask.array<shape=(12960, 17280), chunksize=(4320, 4320)>\n",
       "    rAs      (j_g, i) float32 dask.array<shape=(12960, 17280), chunksize=(4320, 4320)>\n",
       "    rAw      (j, i_g) float32 dask.array<shape=(12960, 17280), chunksize=(4320, 4320)>\n",
       "    rAz      (j_g, i_g) float32 dask.array<shape=(12960, 17280), chunksize=(4320, 4320)>\n",
       "    dxC      (j, i_g) float32 dask.array<shape=(12960, 17280), chunksize=(4320, 4320)>\n",
       "    dyC      (j_g, i) float32 dask.array<shape=(12960, 17280), chunksize=(1, 4320)>\n",
       "    dyG      (j, i_g) float32 dask.array<shape=(12960, 17280), chunksize=(4320, 4320)>\n",
       "    dxG      (j_g, i) float32 dask.array<shape=(12960, 17280), chunksize=(1, 4320)>\n",
       "Data variables:\n",
       "    *empty*"
      ]
     },
     "execution_count": 3,
     "metadata": {},
     "output_type": "execute_result"
    }
   ],
   "source": [
    "from xmitgcm.llcreader.llcmodel import faces_dataset_to_latlon\n",
    "ds_grid_ll = faces_dataset_to_latlon(ds_grid)\n",
    "ds_grid_ll"
   ]
  },
  {
   "cell_type": "code",
   "execution_count": 4,
   "metadata": {},
   "outputs": [
    {
     "data": {
      "text/plain": [
       "<xarray.DataArray 'hFacC' (j: 12960, i: 17280)>\n",
       "dask.array<shape=(12960, 17280), dtype=bool, chunksize=(4320, 4320)>\n",
       "Coordinates:\n",
       "  * i        (i) int64 0 1 2 3 4 5 6 ... 17274 17275 17276 17277 17278 17279\n",
       "  * j        (j) int64 0 1 2 3 4 5 6 ... 12954 12955 12956 12957 12958 12959\n",
       "    lon      (j, i) float32 dask.array<shape=(12960, 17280), chunksize=(4320, 4320)>\n",
       "    lat      (j, i) float32 dask.array<shape=(12960, 17280), chunksize=(4320, 4320)>"
      ]
     },
     "execution_count": 4,
     "metadata": {},
     "output_type": "execute_result"
    }
   ],
   "source": [
    "mask = ds_grid_ll.hFacC > 0\n",
    "keep_coords = ['XC', 'YC']\n",
    "drop_coords = set(mask.coords) - set(keep_coords) - set(mask.dims)\n",
    "mask = mask.reset_coords(drop_coords, drop=True)\n",
    "mask = mask.rename({'XC': 'lon', 'YC': 'lat'})\n",
    "mask"
   ]
  },
  {
   "cell_type": "code",
   "execution_count": 5,
   "metadata": {},
   "outputs": [
    {
     "data": {
      "text/plain": [
       "<matplotlib.collections.QuadMesh at 0x7faf46df8cc0>"
      ]
     },
     "execution_count": 5,
     "metadata": {},
     "output_type": "execute_result"
    },
    {
     "data": {
      "image/png": "[encoded data removed]",
      "text/plain": [
       "<Figure size 432x288 with 2 Axes>"
      ]
     },
     "metadata": {
      "needs_background": "light"
     },
     "output_type": "display_data"
    }
   ],
   "source": [
    "region_size = 540\n",
    "mask_regions = mask.coarsen(i=region_size, j=region_size).mean().load()\n",
    "mask_regions.plot()"
   ]
  },
  {
   "cell_type": "code",
   "execution_count": 11,
   "metadata": {},
   "outputs": [
    {
     "data": {
      "text/plain": [
       "(<xarray.DataArray 'i' ()>\n",
       " array(269.5), <xarray.DataArray 'j' ()>\n",
       " array(269.5))"
      ]
     },
     "execution_count": 11,
     "metadata": {},
     "output_type": "execute_result"
    }
   ],
   "source": [
    "mask_regions.i.min(), mask_regions.j.min()"
   ]
  },
  {
   "cell_type": "code",
   "execution_count": 8,
   "metadata": {},
   "outputs": [
    {
     "data": {
      "text/plain": [
       "270.0"
      ]
     },
     "execution_count": 8,
     "metadata": {},
     "output_type": "execute_result"
    }
   ],
   "source": [
    "540/2"
   ]
  },
  {
   "cell_type": "code",
   "execution_count": 12,
   "metadata": {},
   "outputs": [
    {
     "data": {
      "text/plain": [
       "<matplotlib.collections.QuadMesh at 0x7faf46b62518>"
      ]
     },
     "execution_count": 12,
     "metadata": {},
     "output_type": "execute_result"
    },
    {
     "data": {
      "image/png": "[encoded data removed]",
      "text/plain": [
       "<Figure size 432x288 with 2 Axes>"
      ]
     },
     "metadata": {
      "needs_background": "light"
     },
     "output_type": "display_data"
    }
   ],
   "source": [
    "threshold = 0.98\n",
    "mask_regions.where(mask_regions >= threshold).plot()"
   ]
  },
  {
   "cell_type": "code",
   "execution_count": 13,
   "metadata": {},
   "outputs": [
    {
     "data": {
      "text/plain": [
       "<xarray.DataArray ()>\n",
       "array(321)"
      ]
     },
     "execution_count": 13,
     "metadata": {},
     "output_type": "execute_result"
    }
   ],
   "source": [
    "mask = mask_regions >= threshold\n",
    "mask.sum()"
   ]
  },
  {
   "cell_type": "code",
   "execution_count": 14,
   "metadata": {},
   "outputs": [
    {
     "data": {
      "text/plain": [
       "<matplotlib.collections.QuadMesh at 0x7faf46b08c18>"
      ]
     },
     "execution_count": 14,
     "metadata": {},
     "output_type": "execute_result"
    },
    {
     "data": {
      "image/png": "[encoded data removed]",
      "text/plain": [
       "<Figure size 432x288 with 2 Axes>"
      ]
     },
     "metadata": {
      "needs_background": "light"
     },
     "output_type": "display_data"
    }
   ],
   "source": [
    "mask.plot()"
   ]
  },
  {
   "cell_type": "code",
   "execution_count": 15,
   "metadata": {},
   "outputs": [
    {
     "data": {
      "text/plain": [
       "<xarray.Dataset>\n",
       "Dimensions:  (point: 321)\n",
       "Dimensions without coordinates: point\n",
       "Data variables:\n",
       "    lon      (point) float32 -32.518307 -55.756996 ... -12.24095 0.4758724\n",
       "    lat      (point) float32 -74.01137 -73.7896 ... 68.878395 69.47171\n",
       "    j        (point) int32 2160 2160 2160 2160 2160 ... 11340 11880 12420 12420\n",
       "    i        (point) int32 0 10260 10800 11340 11880 ... 10260 16200 0 1080 1620\n",
       "Attributes:\n",
       "    region_size:  540"
      ]
     },
     "execution_count": 15,
     "metadata": {},
     "output_type": "execute_result"
    }
   ],
   "source": [
    "flat = mask.stack(point=['j', 'i']).reset_index('point')\n",
    "wet_cells = flat.where(flat).dropna('point').rename('cell_coverage')\n",
    "# fix offset from coarsen's coords\n",
    "wet_cells['i'] -= 269.5\n",
    "wet_cells['j'] -= 269.5\n",
    "regions = wet_cells.reset_coords().drop('cell_coverage')\n",
    "regions['i'] = regions.i.astype('i')\n",
    "regions['j'] = regions.j.astype('i')\n",
    "regions.attrs['region_size'] = region_size\n",
    "regions"
   ]
  },
  {
   "cell_type": "code",
   "execution_count": 16,
   "metadata": {},
   "outputs": [
    {
     "data": {
      "text/plain": [
       "<xarray.Dataset>\n",
       "Dimensions:  ()\n",
       "Data variables:\n",
       "    i        int64 0\n",
       "    j        int64 0"
      ]
     },
     "execution_count": 16,
     "metadata": {},
     "output_type": "execute_result"
    }
   ],
   "source": [
    "# verify we got whole numbers\n",
    "((regions[['i', 'j']] % 1) > 0 ).sum()"
   ]
  },
  {
   "cell_type": "code",
   "execution_count": 17,
   "metadata": {},
   "outputs": [],
   "source": [
    "import json\n",
    "\n",
    "with open('land_free_regions_llc4320.json', 'w') as f:\n",
    "    json.dump(regions.to_dict(), f)"
   ]
  },
  {
   "cell_type": "code",
   "execution_count": 36,
   "metadata": {},
   "outputs": [
    {
     "data": {
      "text/plain": [
       "32.0"
      ]
     },
     "execution_count": 36,
     "metadata": {},
     "output_type": "execute_result"
    }
   ],
   "source": [
    "17280 / 540"
   ]
  },
  {
   "cell_type": "code",
   "execution_count": 37,
   "metadata": {},
   "outputs": [
    {
     "data": {
      "text/plain": [
       "24.0"
      ]
     },
     "execution_count": 37,
     "metadata": {},
     "output_type": "execute_result"
    }
   ],
   "source": [
    "12960 / 540"
   ]
  },
  {
   "cell_type": "code",
   "execution_count": null,
   "metadata": {},
   "outputs": [],
   "source": []
  }
 ],
 "metadata": {
  "kernelspec": {
   "display_name": "Python 3",
   "language": "python",
   "name": "python3"
  },
  "language_info": {
   "codemirror_mode": {
    "name": "ipython",
    "version": 3
   },
   "file_extension": ".py",
   "mimetype": "text/x-python",
   "name": "python",
   "nbconvert_exporter": "python",
   "pygments_lexer": "ipython3",
   "version": "3.7.3"
  }
 },
 "nbformat": 4,
 "nbformat_minor": 4
}
